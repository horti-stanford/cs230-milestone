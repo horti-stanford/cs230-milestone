{
  "nbformat": 4,
  "nbformat_minor": 0,
  "metadata": {
    "colab": {
      "provenance": [],
      "authorship_tag": "ABX9TyNvhjWFHjkLA8/PJwLRogQw",
      "include_colab_link": true
    },
    "kernelspec": {
      "name": "python3",
      "display_name": "Python 3"
    },
    "language_info": {
      "name": "python"
    }
  },
  "cells": [
    {
      "cell_type": "markdown",
      "metadata": {
        "id": "view-in-github",
        "colab_type": "text"
      },
      "source": [
        "<a href=\"https://colab.research.google.com/github/horti-stanford/cs230-milestone/blob/main/process_data_inkml_to_rgb_annotations.ipynb\" target=\"_parent\"><img src=\"https://colab.research.google.com/assets/colab-badge.svg\" alt=\"Open In Colab\"/></a>"
      ]
    },
    {
      "cell_type": "code",
      "execution_count": 2,
      "metadata": {
        "colab": {
          "base_uri": "https://localhost:8080/"
        },
        "id": "UEdRWgAhIxoZ",
        "outputId": "c1d85d76-2313-44e3-95eb-35e50565906c"
      },
      "outputs": [
        {
          "output_type": "stream",
          "name": "stdout",
          "text": [
            "Mounted at /cs230-root\n"
          ]
        }
      ],
      "source": [
        "from google.colab import drive\n",
        "\n",
        "drive.mount('/cs230-root')"
      ]
    },
    {
      "cell_type": "code",
      "source": [
        "\n"
      ],
      "metadata": {
        "id": "ykFoB7eUI2Kd"
      },
      "execution_count": null,
      "outputs": []
    },
    {
      "cell_type": "code",
      "source": [
        "# Want to convert inkml files in train, valid, test sets to RGB images size\n",
        "# 256 x 128\n",
        "# The inkml files create images of different sizes and need to be rasterized to\n",
        "# use for offline HME\n",
        "# Directory for data: /cs230-root/MyDrive/cs230-project/mathwriting-2024-excerpt\n",
        "# Train input set:  train -> train-images\n",
        "# Valid input set: valid -> valid-images\n",
        "# Test input set: test -> test-images\n",
        "\n",
        "# Convert Latex annotations to strings. Strings need to be tokenized to be used\n",
        "# for training\n",
        "# Train labels: train -> train-labels\n",
        "# Valid labels: valid  -> valid-labels\n",
        "# Test labels: test -> test-labels\n",
        "\n",
        "# Note that we will run this first on the \"excerpt set\" which has 100 test,\n",
        "# train, valid images with annotations(labels)\n"
      ],
      "metadata": {
        "id": "iZuf3AMzK9-g"
      },
      "execution_count": 3,
      "outputs": []
    },
    {
      "cell_type": "code",
      "source": [
        "# Convert inkml to (256 x 128) images\n",
        "# Modified code from https://github.com/google-research/google-research/blob/master/mathwriting/mathwriting_code_examples.ipynb\n",
        "\n"
      ],
      "metadata": {
        "id": "QcfyhNPsJiJ_"
      },
      "execution_count": 4,
      "outputs": []
    },
    {
      "cell_type": "code",
      "source": [
        "# Import packages\n",
        "import json\n",
        "import os\n",
        "import pprint\n",
        "import re\n",
        "\n",
        "import numpy as np\n",
        "import matplotlib.pyplot as pl\n",
        "import matplotlib.patches as mpl_patches\n",
        "\n",
        "from xml.etree import ElementTree"
      ],
      "metadata": {
        "id": "GujteanAU7AL"
      },
      "execution_count": 5,
      "outputs": []
    },
    {
      "cell_type": "code",
      "source": [
        "# Input: Filename\n",
        "# Output: strokes, annotations\n",
        "\n",
        "def read_inkml_file(filename: str):\n",
        "  \"\"\"Modified simple reader for MathWriting's InkML files.\"\"\"\n",
        "  with open(filename, \"r\") as f:\n",
        "    root = ElementTree.fromstring(f.read())\n",
        "  strokes = []\n",
        "  annotations = {}\n",
        "\n",
        "  for element in root:\n",
        "    tag_name = element.tag.removeprefix('{http://www.w3.org/2003/InkML}')\n",
        "    if tag_name == 'annotation':\n",
        "      annotations[element.attrib.get('type')] = element.text\n",
        "\n",
        "    elif tag_name == 'trace':\n",
        "      points = element.text.split(',')\n",
        "      stroke_x, stroke_y, stroke_t = [], [], []\n",
        "      for point in points:\n",
        "        x, y, t = point.split(' ')\n",
        "        stroke_x.append(float(x))\n",
        "        stroke_y.append(float(y))\n",
        "        stroke_t.append(float(t))\n",
        "      strokes.append(np.array((stroke_x, stroke_y, stroke_t)))\n",
        "\n",
        "  return strokes, annotations"
      ],
      "metadata": {
        "id": "MtfsrEZcQV4i"
      },
      "execution_count": 6,
      "outputs": []
    },
    {
      "cell_type": "code",
      "source": [
        "!apt-get install libcairo2-dev libjpeg-dev libgif-dev\n",
        "!pip install pycairo"
      ],
      "metadata": {
        "colab": {
          "base_uri": "https://localhost:8080/"
        },
        "id": "BnlqHTpzQopu",
        "outputId": "8289af73-45da-4d0e-fb95-5846707d0302"
      },
      "execution_count": 7,
      "outputs": [
        {
          "output_type": "stream",
          "name": "stdout",
          "text": [
            "Reading package lists... Done\n",
            "Building dependency tree... Done\n",
            "Reading state information... Done\n",
            "libjpeg-dev is already the newest version (8c-2ubuntu10).\n",
            "libjpeg-dev set to manually installed.\n",
            "libgif-dev is already the newest version (5.1.9-2ubuntu0.1).\n",
            "libgif-dev set to manually installed.\n",
            "The following additional packages will be installed:\n",
            "  libblkid-dev libblkid1 libcairo-script-interpreter2 libffi-dev libglib2.0-dev libglib2.0-dev-bin\n",
            "  libice-dev liblzo2-2 libmount-dev libmount1 libpixman-1-dev libselinux1-dev libsepol-dev\n",
            "  libsm-dev libxcb-render0-dev libxcb-shm0-dev\n",
            "Suggested packages:\n",
            "  libcairo2-doc libgirepository1.0-dev libglib2.0-doc libgdk-pixbuf2.0-bin | libgdk-pixbuf2.0-dev\n",
            "  libxml2-utils libice-doc cryptsetup-bin libsm-doc\n",
            "The following NEW packages will be installed:\n",
            "  libblkid-dev libcairo-script-interpreter2 libcairo2-dev libffi-dev libglib2.0-dev\n",
            "  libglib2.0-dev-bin libice-dev liblzo2-2 libmount-dev libpixman-1-dev libselinux1-dev libsepol-dev\n",
            "  libsm-dev libxcb-render0-dev libxcb-shm0-dev\n",
            "The following packages will be upgraded:\n",
            "  libblkid1 libmount1\n",
            "2 upgraded, 15 newly installed, 0 to remove and 47 not upgraded.\n",
            "Need to get 4,068 kB of archives.\n",
            "After this operation, 19.8 MB of additional disk space will be used.\n",
            "Get:1 http://archive.ubuntu.com/ubuntu jammy-updates/main amd64 libblkid1 amd64 2.37.2-4ubuntu3.4 [103 kB]\n",
            "Get:2 http://archive.ubuntu.com/ubuntu jammy-updates/main amd64 libmount1 amd64 2.37.2-4ubuntu3.4 [122 kB]\n",
            "Get:3 http://archive.ubuntu.com/ubuntu jammy/main amd64 liblzo2-2 amd64 2.10-2build3 [53.7 kB]\n",
            "Get:4 http://archive.ubuntu.com/ubuntu jammy/main amd64 libcairo-script-interpreter2 amd64 1.16.0-5ubuntu2 [62.0 kB]\n",
            "Get:5 http://archive.ubuntu.com/ubuntu jammy/main amd64 libice-dev amd64 2:1.0.10-1build2 [51.4 kB]\n",
            "Get:6 http://archive.ubuntu.com/ubuntu jammy/main amd64 libsm-dev amd64 2:1.2.3-1build2 [18.1 kB]\n",
            "Get:7 http://archive.ubuntu.com/ubuntu jammy-updates/main amd64 libpixman-1-dev amd64 0.40.0-1ubuntu0.22.04.1 [280 kB]\n",
            "Get:8 http://archive.ubuntu.com/ubuntu jammy/main amd64 libxcb-render0-dev amd64 1.14-3ubuntu3 [19.6 kB]\n",
            "Get:9 http://archive.ubuntu.com/ubuntu jammy/main amd64 libxcb-shm0-dev amd64 1.14-3ubuntu3 [6,848 B]\n",
            "Get:10 http://archive.ubuntu.com/ubuntu jammy/main amd64 libffi-dev amd64 3.4.2-4 [63.7 kB]\n",
            "Get:11 http://archive.ubuntu.com/ubuntu jammy-updates/main amd64 libglib2.0-dev-bin amd64 2.72.4-0ubuntu2.4 [117 kB]\n",
            "Get:12 http://archive.ubuntu.com/ubuntu jammy-updates/main amd64 libblkid-dev amd64 2.37.2-4ubuntu3.4 [185 kB]\n",
            "Get:13 http://archive.ubuntu.com/ubuntu jammy/main amd64 libsepol-dev amd64 3.3-1build1 [378 kB]\n",
            "Get:14 http://archive.ubuntu.com/ubuntu jammy/main amd64 libselinux1-dev amd64 3.3-1build2 [158 kB]\n",
            "Get:15 http://archive.ubuntu.com/ubuntu jammy-updates/main amd64 libmount-dev amd64 2.37.2-4ubuntu3.4 [14.5 kB]\n",
            "Get:16 http://archive.ubuntu.com/ubuntu jammy-updates/main amd64 libglib2.0-dev amd64 2.72.4-0ubuntu2.4 [1,743 kB]\n",
            "Get:17 http://archive.ubuntu.com/ubuntu jammy/main amd64 libcairo2-dev amd64 1.16.0-5ubuntu2 [692 kB]\n",
            "Fetched 4,068 kB in 2s (2,279 kB/s)\n",
            "(Reading database ... 123630 files and directories currently installed.)\n",
            "Preparing to unpack .../libblkid1_2.37.2-4ubuntu3.4_amd64.deb ...\n",
            "Unpacking libblkid1:amd64 (2.37.2-4ubuntu3.4) over (2.37.2-4ubuntu3) ...\n",
            "Setting up libblkid1:amd64 (2.37.2-4ubuntu3.4) ...\n",
            "(Reading database ... 123630 files and directories currently installed.)\n",
            "Preparing to unpack .../libmount1_2.37.2-4ubuntu3.4_amd64.deb ...\n",
            "Unpacking libmount1:amd64 (2.37.2-4ubuntu3.4) over (2.37.2-4ubuntu3) ...\n",
            "Setting up libmount1:amd64 (2.37.2-4ubuntu3.4) ...\n",
            "Selecting previously unselected package liblzo2-2:amd64.\n",
            "(Reading database ... 123630 files and directories currently installed.)\n",
            "Preparing to unpack .../00-liblzo2-2_2.10-2build3_amd64.deb ...\n",
            "Unpacking liblzo2-2:amd64 (2.10-2build3) ...\n",
            "Selecting previously unselected package libcairo-script-interpreter2:amd64.\n",
            "Preparing to unpack .../01-libcairo-script-interpreter2_1.16.0-5ubuntu2_amd64.deb ...\n",
            "Unpacking libcairo-script-interpreter2:amd64 (1.16.0-5ubuntu2) ...\n",
            "Selecting previously unselected package libice-dev:amd64.\n",
            "Preparing to unpack .../02-libice-dev_2%3a1.0.10-1build2_amd64.deb ...\n",
            "Unpacking libice-dev:amd64 (2:1.0.10-1build2) ...\n",
            "Selecting previously unselected package libsm-dev:amd64.\n",
            "Preparing to unpack .../03-libsm-dev_2%3a1.2.3-1build2_amd64.deb ...\n",
            "Unpacking libsm-dev:amd64 (2:1.2.3-1build2) ...\n",
            "Selecting previously unselected package libpixman-1-dev:amd64.\n",
            "Preparing to unpack .../04-libpixman-1-dev_0.40.0-1ubuntu0.22.04.1_amd64.deb ...\n",
            "Unpacking libpixman-1-dev:amd64 (0.40.0-1ubuntu0.22.04.1) ...\n",
            "Selecting previously unselected package libxcb-render0-dev:amd64.\n",
            "Preparing to unpack .../05-libxcb-render0-dev_1.14-3ubuntu3_amd64.deb ...\n",
            "Unpacking libxcb-render0-dev:amd64 (1.14-3ubuntu3) ...\n",
            "Selecting previously unselected package libxcb-shm0-dev:amd64.\n",
            "Preparing to unpack .../06-libxcb-shm0-dev_1.14-3ubuntu3_amd64.deb ...\n",
            "Unpacking libxcb-shm0-dev:amd64 (1.14-3ubuntu3) ...\n",
            "Selecting previously unselected package libffi-dev:amd64.\n",
            "Preparing to unpack .../07-libffi-dev_3.4.2-4_amd64.deb ...\n",
            "Unpacking libffi-dev:amd64 (3.4.2-4) ...\n",
            "Selecting previously unselected package libglib2.0-dev-bin.\n",
            "Preparing to unpack .../08-libglib2.0-dev-bin_2.72.4-0ubuntu2.4_amd64.deb ...\n",
            "Unpacking libglib2.0-dev-bin (2.72.4-0ubuntu2.4) ...\n",
            "Selecting previously unselected package libblkid-dev:amd64.\n",
            "Preparing to unpack .../09-libblkid-dev_2.37.2-4ubuntu3.4_amd64.deb ...\n",
            "Unpacking libblkid-dev:amd64 (2.37.2-4ubuntu3.4) ...\n",
            "Selecting previously unselected package libsepol-dev:amd64.\n",
            "Preparing to unpack .../10-libsepol-dev_3.3-1build1_amd64.deb ...\n",
            "Unpacking libsepol-dev:amd64 (3.3-1build1) ...\n",
            "Selecting previously unselected package libselinux1-dev:amd64.\n",
            "Preparing to unpack .../11-libselinux1-dev_3.3-1build2_amd64.deb ...\n",
            "Unpacking libselinux1-dev:amd64 (3.3-1build2) ...\n",
            "Selecting previously unselected package libmount-dev:amd64.\n",
            "Preparing to unpack .../12-libmount-dev_2.37.2-4ubuntu3.4_amd64.deb ...\n",
            "Unpacking libmount-dev:amd64 (2.37.2-4ubuntu3.4) ...\n",
            "Selecting previously unselected package libglib2.0-dev:amd64.\n",
            "Preparing to unpack .../13-libglib2.0-dev_2.72.4-0ubuntu2.4_amd64.deb ...\n",
            "Unpacking libglib2.0-dev:amd64 (2.72.4-0ubuntu2.4) ...\n",
            "Selecting previously unselected package libcairo2-dev:amd64.\n",
            "Preparing to unpack .../14-libcairo2-dev_1.16.0-5ubuntu2_amd64.deb ...\n",
            "Unpacking libcairo2-dev:amd64 (1.16.0-5ubuntu2) ...\n",
            "Setting up libglib2.0-dev-bin (2.72.4-0ubuntu2.4) ...\n",
            "Setting up libblkid-dev:amd64 (2.37.2-4ubuntu3.4) ...\n",
            "Setting up libpixman-1-dev:amd64 (0.40.0-1ubuntu0.22.04.1) ...\n",
            "Setting up libice-dev:amd64 (2:1.0.10-1build2) ...\n",
            "Setting up libsm-dev:amd64 (2:1.2.3-1build2) ...\n",
            "Setting up liblzo2-2:amd64 (2.10-2build3) ...\n",
            "Setting up libffi-dev:amd64 (3.4.2-4) ...\n",
            "Setting up libxcb-shm0-dev:amd64 (1.14-3ubuntu3) ...\n",
            "Setting up libsepol-dev:amd64 (3.3-1build1) ...\n",
            "Setting up libxcb-render0-dev:amd64 (1.14-3ubuntu3) ...\n",
            "Setting up libcairo-script-interpreter2:amd64 (1.16.0-5ubuntu2) ...\n",
            "Setting up libselinux1-dev:amd64 (3.3-1build2) ...\n",
            "Setting up libmount-dev:amd64 (2.37.2-4ubuntu3.4) ...\n",
            "Setting up libglib2.0-dev:amd64 (2.72.4-0ubuntu2.4) ...\n",
            "Processing triggers for libglib2.0-0:amd64 (2.72.4-0ubuntu2.4) ...\n",
            "Processing triggers for libc-bin (2.35-0ubuntu3.4) ...\n",
            "/sbin/ldconfig.real: /usr/local/lib/libur_loader.so.0 is not a symbolic link\n",
            "\n",
            "/sbin/ldconfig.real: /usr/local/lib/libtcm_debug.so.1 is not a symbolic link\n",
            "\n",
            "/sbin/ldconfig.real: /usr/local/lib/libtbbbind_2_5.so.3 is not a symbolic link\n",
            "\n",
            "/sbin/ldconfig.real: /usr/local/lib/libtbbmalloc_proxy.so.2 is not a symbolic link\n",
            "\n",
            "/sbin/ldconfig.real: /usr/local/lib/libur_adapter_opencl.so.0 is not a symbolic link\n",
            "\n",
            "/sbin/ldconfig.real: /usr/local/lib/libtbbbind_2_0.so.3 is not a symbolic link\n",
            "\n",
            "/sbin/ldconfig.real: /usr/local/lib/libtbbbind.so.3 is not a symbolic link\n",
            "\n",
            "/sbin/ldconfig.real: /usr/local/lib/libtbb.so.12 is not a symbolic link\n",
            "\n",
            "/sbin/ldconfig.real: /usr/local/lib/libtcm.so.1 is not a symbolic link\n",
            "\n",
            "/sbin/ldconfig.real: /usr/local/lib/libur_adapter_level_zero.so.0 is not a symbolic link\n",
            "\n",
            "/sbin/ldconfig.real: /usr/local/lib/libtbbmalloc.so.2 is not a symbolic link\n",
            "\n",
            "/sbin/ldconfig.real: /usr/local/lib/libhwloc.so.15 is not a symbolic link\n",
            "\n",
            "/sbin/ldconfig.real: /usr/local/lib/libumf.so.0 is not a symbolic link\n",
            "\n",
            "Processing triggers for man-db (2.10.2-1) ...\n",
            "Setting up libcairo2-dev:amd64 (1.16.0-5ubuntu2) ...\n",
            "Collecting pycairo\n",
            "  Downloading pycairo-1.27.0.tar.gz (661 kB)\n",
            "\u001b[2K     \u001b[90m━━━━━━━━━━━━━━━━━━━━━━━━━━━━━━━━━━━━━━━━\u001b[0m \u001b[32m661.5/661.5 kB\u001b[0m \u001b[31m13.1 MB/s\u001b[0m eta \u001b[36m0:00:00\u001b[0m\n",
            "\u001b[?25h  Installing build dependencies ... \u001b[?25l\u001b[?25hdone\n",
            "  Getting requirements to build wheel ... \u001b[?25l\u001b[?25hdone\n",
            "  Installing backend dependencies ... \u001b[?25l\u001b[?25hdone\n",
            "  Preparing metadata (pyproject.toml) ... \u001b[?25l\u001b[?25hdone\n",
            "Building wheels for collected packages: pycairo\n",
            "  Building wheel for pycairo (pyproject.toml) ... \u001b[?25l\u001b[?25hdone\n",
            "  Created wheel for pycairo: filename=pycairo-1.27.0-cp310-cp310-linux_x86_64.whl size=128157 sha256=17303d5b770fe24f9175dfe450059957eafadc553647c90963218a37b1c66ee0\n",
            "  Stored in directory: /root/.cache/pip/wheels/c3/76/e4/134a2e849a3082926653cb544793d9642aed12399436f422d1\n",
            "Successfully built pycairo\n",
            "Installing collected packages: pycairo\n",
            "Successfully installed pycairo-1.27.0\n"
          ]
        }
      ]
    },
    {
      "cell_type": "code",
      "source": [
        "import cairo\n",
        "import math\n",
        "import PIL\n",
        "import PIL.Image\n",
        "\n",
        "\n",
        "def cairo_to_pil(surface: cairo.ImageSurface) -> PIL.Image.Image:\n",
        "  \"\"\"Converts a ARGB Cairo surface into an RGB PIL image.\"\"\"\n",
        "  size = (surface.get_width(), surface.get_height())\n",
        "  stride = surface.get_stride()\n",
        "  with surface.get_data() as memory:\n",
        "    return PIL.Image.frombuffer(\n",
        "        'RGB', size, memory.tobytes(), 'raw', 'BGRX', stride\n",
        "    )\n",
        "\n",
        "def render_ink(\n",
        "    strokes,\n",
        "    annotations,\n",
        "    margin = 0,\n",
        "    stroke_width = 1.0,\n",
        "    stroke_color = (0.0, 0.0, 0.0),\n",
        "    background_color = (1.0, 1.0, 1.0),\n",
        ") -> PIL.Image.Image:\n",
        "  \"\"\"Renders an ink as a PIL image using Cairo.\n",
        "\n",
        "  The image size is chosen to fit the entire ink while having one pixel per\n",
        "  InkML unit.\n",
        "\n",
        "  Args:\n",
        "    margin: size of the blank margin around the image (pixels)\n",
        "    stroke_width: width of each stroke (pixels)\n",
        "    stroke_color: color to paint the strokes with\n",
        "    background_color: color to fill the background with\n",
        "\n",
        "  Returns:\n",
        "    Rendered ink, as a PIL image.\n",
        "  \"\"\"\n",
        "\n",
        "  # Compute transformation to fit the ink in the image.\n",
        "  xmin, ymin = np.vstack([stroke[:2].min(axis=1) for stroke in strokes]).min(axis=0)\n",
        "  xmax, ymax = np.vstack([stroke[:2].max(axis=1) for stroke in strokes]).max(axis=0)\n",
        "  width = int(xmax - xmin + 2*margin)\n",
        "  height = int(ymax - ymin + 2*margin)\n",
        "\n",
        "  shift_x = - xmin + margin\n",
        "  shift_y = - ymin + margin\n",
        "\n",
        "\n",
        "  def apply_transform(ink_x: float, ink_y: float):\n",
        "    return ink_x + shift_x, ink_y + shift_y\n",
        "\n",
        "  # Create the canvas with the background color\n",
        "  surface = cairo.ImageSurface(cairo.FORMAT_ARGB32, width, height)\n",
        "  ctx = cairo.Context(surface)\n",
        "  ctx.set_source_rgb(*background_color)\n",
        "  ctx.paint()\n",
        "\n",
        "  # Set pen parameters\n",
        "  ctx.set_source_rgb(*stroke_color)\n",
        "  ctx.set_line_width(stroke_width)\n",
        "  ctx.set_line_cap(cairo.LineCap.ROUND)\n",
        "  ctx.set_line_join(cairo.LineJoin.ROUND)\n",
        "\n",
        "  for stroke in strokes:\n",
        "    if len(stroke[0]) == 1:\n",
        "      # For isolated points we just draw a filled disk with a diameter equal\n",
        "      # to the line width.\n",
        "      x, y = apply_transform(stroke[0, 0], stroke[1, 0])\n",
        "      ctx.arc(x, y, stroke_width / 2, 0, 2 * math.pi)\n",
        "      ctx.fill()\n",
        "\n",
        "    else:\n",
        "      ctx.move_to(*apply_transform(stroke[0,0], stroke[1,0]))\n",
        "\n",
        "      for ink_x, ink_y in stroke[:2, 1:].T:\n",
        "        ctx.line_to(*apply_transform(ink_x, ink_y))\n",
        "      ctx.stroke()\n",
        "\n",
        "  return cairo_to_pil(surface)\n"
      ],
      "metadata": {
        "id": "z8oIZVJTpsXc"
      },
      "execution_count": 8,
      "outputs": []
    },
    {
      "cell_type": "code",
      "source": [
        "# Assumes these files from mathwriting-2024-excerpt are available\n",
        "# Assumes folder train-images exists\n",
        "import os\n",
        "path ='/cs230-root/MyDrive/cs230-project/mathwriting-2024-excerpt/'\n",
        "\n",
        "\n",
        "def process_dir(infldr, outfldr, lblfldr):\n",
        "  directory_files = os.listdir(infldr)\n",
        "  nfiles = len(directory_files)\n",
        "\n",
        "  for i in range(nfiles):\n",
        "     # Rasterize strokes, get annotations\n",
        "     f=infldr + '/' + directory_files[i]\n",
        "     strokes, annotations = read_inkml_file(f)\n",
        "     img = render_ink(strokes, annotations)\n",
        "     # Resize input images to standard size\n",
        "     resized = img.resize((256,128))\n",
        "     # Write output to rgb file\n",
        "     of=outfldr + '/' + directory_files[i] + \".rgb\"\n",
        "     resized.save(of)\n",
        "     # Write LaTeX string for image as the label\n",
        "     lf=lblfldr + '/' + directory_files[i] + \".lbl\"\n",
        "     f = open(lf, \"w\")\n",
        "     f.write(annotations['normalizedLabel'])\n",
        "     f.close"
      ],
      "metadata": {
        "id": "BiOMhSIDRJnr"
      },
      "execution_count": 10,
      "outputs": []
    },
    {
      "cell_type": "code",
      "source": [
        "# Process training data\n",
        "process_dir(path+'train/', path+'train-images/', path+'train-labels')"
      ],
      "metadata": {
        "id": "Lc9mxPOqPn_G"
      },
      "execution_count": 15,
      "outputs": []
    },
    {
      "cell_type": "code",
      "source": [
        "# Process dev data\n",
        "process_dir(path+'valid/', path+'valid-images/', path+'valid-labels')"
      ],
      "metadata": {
        "id": "MAiKs8lCXcTE"
      },
      "execution_count": 12,
      "outputs": []
    },
    {
      "cell_type": "code",
      "source": [
        "# Process test data\n",
        "process_dir(path+'test/', path+'test-images/', path+'test-labels')"
      ],
      "metadata": {
        "id": "Rv7DIkzOXobA"
      },
      "execution_count": 14,
      "outputs": []
    },
    {
      "cell_type": "code",
      "source": [],
      "metadata": {
        "id": "TKOCIFQCR_0_"
      },
      "execution_count": null,
      "outputs": []
    }
  ]
}