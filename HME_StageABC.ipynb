{
  "nbformat": 4,
  "nbformat_minor": 0,
  "metadata": {
    "colab": {
      "provenance": [],
      "authorship_tag": "ABX9TyOL4WOoz98L1YmiZ/umFkcd",
      "include_colab_link": true
    },
    "kernelspec": {
      "name": "python3",
      "display_name": "Python 3"
    },
    "language_info": {
      "name": "python"
    }
  },
  "cells": [
    {
      "cell_type": "markdown",
      "metadata": {
        "id": "view-in-github",
        "colab_type": "text"
      },
      "source": [
        "<a href=\"https://colab.research.google.com/github/horti-stanford/cs230-milestone/blob/main/HME_StageABC.ipynb\" target=\"_parent\"><img src=\"https://colab.research.google.com/assets/colab-badge.svg\" alt=\"Open In Colab\"/></a>"
      ]
    },
    {
      "cell_type": "markdown",
      "source": [
        "# Stage A\n",
        "*   Feature detection CNN with the following layers\n",
        "*   CNN with p = 3, f = 7, s = 1\n",
        "*   Will set up: ZEROPAD2D -> CONV2D -> BN -> RELU -> MAXPOOL\n",
        "*   Ref: [Le & Nakagawa](https://colab.research.google.com/drive/1nlGIvyr4xOmjBeQ3oHLTVwNPp01K8mOE#scrollTo=o0zg6sdxwGT2&line=5&uniqifier=1) used 4 sets of (Conv->BN->RELU->MAXPOOL) followed by (Conv->BN->RELU->Output)\n",
        "*   We will just do 1 set of them for simplicity and easily repeat the layers if needed later\n",
        "\n"
      ],
      "metadata": {
        "id": "o0zg6sdxwGT2"
      }
    },
    {
      "cell_type": "code",
      "execution_count": 1,
      "metadata": {
        "id": "MXgpA6UllzUR"
      },
      "outputs": [],
      "source": [
        "import math\n",
        "import numpy as np\n",
        "import h5py\n",
        "import matplotlib.pyplot as plt\n",
        "from matplotlib.pyplot import imread\n",
        "import scipy\n",
        "from PIL import Image\n",
        "import pandas as pd\n",
        "import tensorflow as tf\n",
        "import tensorflow.keras.layers as tfl\n",
        "from tensorflow.python.framework import ops\n",
        "import os"
      ]
    },
    {
      "cell_type": "code",
      "source": [
        "np.random.seed(1)"
      ],
      "metadata": {
        "id": "2AW0-CdZmFyQ"
      },
      "execution_count": 2,
      "outputs": []
    },
    {
      "cell_type": "code",
      "source": [
        "# Mount drive with processed training data\n",
        "from google.colab import drive\n",
        "\n",
        "drive.mount('/cs230-root')"
      ],
      "metadata": {
        "colab": {
          "base_uri": "https://localhost:8080/"
        },
        "id": "E6zIH85ImK_O",
        "outputId": "d4367aeb-7c8e-4d56-d28e-d63dea64174d"
      },
      "execution_count": 3,
      "outputs": [
        {
          "output_type": "stream",
          "name": "stdout",
          "text": [
            "Mounted at /cs230-root\n"
          ]
        }
      ]
    },
    {
      "cell_type": "code",
      "source": [
        "# Fetch and save list of training images (X)\n",
        "\n",
        "train_dir = '/cs230-root/MyDrive/cs230-project/mathwriting-2024-excerpt/train-images/'\n",
        "directory_files = os.listdir(train_dir)\n",
        "n_training_files = len(directory_files)\n",
        "# print # of files found\n",
        "print(\"# of training data files: \", n_training_files)\n",
        "# print sample file name\n",
        "print(\"Sample file name:  \", directory_files[n_training_files - 1])"
      ],
      "metadata": {
        "colab": {
          "base_uri": "https://localhost:8080/"
        },
        "id": "wvSWPK3n5REt",
        "outputId": "91581a73-4af4-4097-870d-25efdd1e5f82"
      },
      "execution_count": 5,
      "outputs": [
        {
          "output_type": "stream",
          "name": "stdout",
          "text": [
            "# of training data files:  100\n",
            "Sample file name:   033bbf63000c086d.inkml.rgb\n"
          ]
        }
      ]
    },
    {
      "cell_type": "code",
      "source": [
        "# Read files into arrays and stack into training set\n",
        "# Read files into arrays\n",
        "from PIL import Image\n",
        "import numpy as np\n",
        "\n",
        "def load_img_to_array(img_file):\n",
        "  # Open the image file\n",
        "  img = Image.open(img_file)\n",
        "  # Convert the image to a NumPy array\n",
        "  img_array = np.array(img)\n",
        "  # print(img_array)\n",
        "  return img_array\n",
        "\n",
        "imgs = []\n",
        "for i in range(len(directory_files)):\n",
        "  f = train_dir+directory_files[i]\n",
        "  #print(\"processing \", i, \" : \",  f )\n",
        "  imgs.append(load_img_to_array(f))\n",
        "X_train_orig = np.stack(imgs)"
      ],
      "metadata": {
        "id": "X3pG5kqG6DWj"
      },
      "execution_count": 6,
      "outputs": []
    },
    {
      "cell_type": "code",
      "source": [
        "# Normalize image vectors\n",
        "X_train = X_train_orig/255\n",
        "print (\"Number of training examples = \", X_train.shape[0])\n",
        "print (\"X_train shape: \", X_train.shape)"
      ],
      "metadata": {
        "colab": {
          "base_uri": "https://localhost:8080/"
        },
        "id": "g3IeB1Uw6VTj",
        "outputId": "51ee283c-4595-4920-f3f7-aeeecf91afc6"
      },
      "execution_count": 7,
      "outputs": [
        {
          "output_type": "stream",
          "name": "stdout",
          "text": [
            "Number of training examples =  100\n",
            "X_train shape:  (100, 128, 256, 3)\n"
          ]
        }
      ]
    },
    {
      "cell_type": "code",
      "source": [
        "# Show sample image\n",
        "index = 3\n",
        "plt.imshow(X_train_orig[index]) #display sample training image\n",
        "plt.show()"
      ],
      "metadata": {
        "colab": {
          "base_uri": "https://localhost:8080/",
          "height": 313
        },
        "id": "ZTh6goNF7AXP",
        "outputId": "aaddfb7b-09e3-4995-fc86-6e85a1f0a114"
      },
      "execution_count": 8,
      "outputs": [
        {
          "output_type": "display_data",
          "data": {
            "text/plain": [
              "<Figure size 640x480 with 1 Axes>"
            ],
            "image/png": "[encoded data removed]"
          },
          "metadata": {}
        }
      ]
    },
    {
      "cell_type": "code",
      "source": [
        "# LaTeX labels (training Y)\n",
        "lbl_dir = '/cs230-root/MyDrive/cs230-project/mathwriting-2024-excerpt/train-labels/'\n",
        "label_files = os.listdir(lbl_dir)\n",
        "n_label_files = len(label_files)\n",
        "# print # of files found\n",
        "print(\"# of training label files: \", n_label_files)\n",
        "# print sample file name\n",
        "print(\"Sample file name:  \", label_files[n_label_files - 1])"
      ],
      "metadata": {
        "colab": {
          "base_uri": "https://localhost:8080/"
        },
        "id": "blpC6YQSUsMP",
        "outputId": "27e354f8-2697-4782-aba8-c644730a650c"
      },
      "execution_count": 9,
      "outputs": [
        {
          "output_type": "stream",
          "name": "stdout",
          "text": [
            "# of training label files:  100\n",
            "Sample file name:   073036bdd616605d.inkml.lbl\n"
          ]
        }
      ]
    },
    {
      "cell_type": "code",
      "source": [
        "# Read LaTeX label files, tokenize them and save labels into array of lists of tokens\n",
        "def load_labels_to_token_list(lbl_file):\n",
        "  # Read label string\n",
        "  with open(lbl_file, \"r\") as lbl:\n",
        "    label = lbl.readline()\n",
        "    # print(label)\n",
        "  return label"
      ],
      "metadata": {
        "id": "SAWWIL6KTFRU"
      },
      "execution_count": 10,
      "outputs": []
    },
    {
      "cell_type": "code",
      "source": [
        "# Tokenize (modified from Mathwriting paper's github)\n",
        "import re\n",
        "\n",
        "_COMMAND_RE = re.compile(r'\\\\(mathbb{[a-zA-Z]}|begin{[a-z]+}|end{[a-z]+}|operatorname\\\\*|[a-zA-Z]+|.)')\n",
        "\n",
        "def tokenize_expression(s: str) -> list[str]:\n",
        "  r\"\"\"Transform a Latex math string into a list of tokens.\n",
        "\n",
        "  Tokens are strings that are meaningful in the context of Latex\n",
        "  e.g. '1', r'\\alpha', r'\\frac'.\n",
        "\n",
        "  Args:\n",
        "    s: unicode input string (ex: r\"\\frac{1}{2}\")\n",
        "\n",
        "  Returns:\n",
        "    tokens: list of tokens as unicode strings.\n",
        "  \"\"\"\n",
        "  tokens = []\n",
        "  while s:\n",
        "    if s[0] == '\\\\' :\n",
        "      tokens.append(_COMMAND_RE.match(s).group(0))\n",
        "    else:\n",
        "      tokens.append(s[0])\n",
        "\n",
        "    s = s[len(tokens[-1]) :]\n",
        "\n",
        "  return tokens\n"
      ],
      "metadata": {
        "id": "2SQ8tdBGXDPK"
      },
      "execution_count": 11,
      "outputs": []
    },
    {
      "cell_type": "code",
      "source": [
        "labels = []\n",
        "for i in range(n_label_files):\n",
        "  f = lbl_dir+label_files[i]\n",
        "  labels.append(tokenize_expression(load_labels_to_token_list(f)))\n",
        "Y_train = labels\n",
        "print (\"Number of training labels  = \", len(Y_train))\n",
        "print(\"sample tokens [1]\", Y_train[1])"
      ],
      "metadata": {
        "colab": {
          "base_uri": "https://localhost:8080/"
        },
        "id": "JXPuMZqCW6N8",
        "outputId": "7962399f-e257-47e1-d1f3-4e4237c8e517"
      },
      "execution_count": 12,
      "outputs": [
        {
          "output_type": "stream",
          "name": "stdout",
          "text": [
            "Number of training labels  =  100\n",
            "sample tokens [1] ['\\\\langle', ' ', 'P', 'u', ',', 'u', '\\\\rangle', '>', '0', ',', '\\\\forall', ' ', 'u', '\\\\ne', '0']\n"
          ]
        }
      ]
    },
    {
      "cell_type": "markdown",
      "source": [
        "## Stage A\n",
        "\n",
        "\n",
        "*   Feature detection CNN with the following layers\n",
        "*   CNN with p = 3, f = 7, s = 1\n",
        "*   Will set up: ZEROPAD2D -> CONV2D -> BN -> RELU -> MAXPOOL -> FLATTEN\n",
        "*   Ref: Le & Nakagawa used 4 sets of (Conv->BN->RELU->MAXPOOL) followed by (Conv->BN->RELU->Output)\n",
        "*   We will just do 1 set of them for simplicity\n",
        "\n",
        "\n"
      ],
      "metadata": {
        "id": "E4FwHRDiD3qn"
      }
    },
    {
      "cell_type": "code",
      "source": [
        "def StageAModel():\n",
        "  \"\"\"\n",
        "    Implements the forward propagation for the binary classification model:\n",
        "    ZEROPAD2D -> CONV2D -> BN -> RELU -> MAXPOOL -> FLATTEN -> Output features\n",
        "    with p = 3, f = 7, s = 1\n",
        "    n_f = 32\n",
        "\n",
        "    Note that for simplicity and grading purposes, you'll hard-code all the values\n",
        "    such as the stride and kernel (filter) sizes.\n",
        "    Normally, functions should take these values as function parameters.\n",
        "\n",
        "    Arguments:\n",
        "    None\n",
        "\n",
        "    Returns:\n",
        "    model -- TF Keras model (object containing the information for the entire training process)\n",
        "  \"\"\"\n",
        "\n",
        "  model = tf.keras.Sequential([\n",
        "            tfl.Input(shape=(128, 256, 3)),\n",
        "            ## Zero pad p = (f - 1)/2\n",
        "            tfl.ZeroPadding2D(padding=(3, 3)),\n",
        "            ## Conv2D with 32 7x7 filters and stride of 1\n",
        "            tfl.Conv2D(filters=32, kernel_size=(7,7), strides = (1,1)),\n",
        "            ## BatchNormalization for axis 3\n",
        "            tfl.BatchNormalization(axis=3),\n",
        "            ## ReLU\n",
        "            tfl.ReLU(),\n",
        "            ## Max Pooling 2D with default parameters\n",
        "            tfl.MaxPooling2D()\n",
        "     ])\n",
        "  model.summary()\n",
        "  return model"
      ],
      "metadata": {
        "id": "nXQqhIqa7WbX"
      },
      "execution_count": 13,
      "outputs": []
    },
    {
      "cell_type": "code",
      "source": [
        "m = StageAModel()"
      ],
      "metadata": {
        "colab": {
          "base_uri": "https://localhost:8080/",
          "height": 314
        },
        "id": "ZcKjIToqebBd",
        "outputId": "ca87896f-f65d-41f4-c068-99d7d27dbcbc"
      },
      "execution_count": 14,
      "outputs": [
        {
          "output_type": "display_data",
          "data": {
            "text/plain": [
              "\u001b[1mModel: \"sequential\"\u001b[0m\n"
            ],
            "text/html": [
              "<pre style=\"white-space:pre;overflow-x:auto;line-height:normal;font-family:Menlo,'DejaVu Sans Mono',consolas,'Courier New',monospace\"><span style=\"font-weight: bold\">Model: \"sequential\"</span>\n",
              "</pre>\n"
            ]
          },
          "metadata": {}
        },
        {
          "output_type": "display_data",
          "data": {
            "text/plain": [
              "┏━━━━━━━━━━━━━━━━━━━━━━━━━━━━━━━━━━━━━━┳━━━━━━━━━━━━━━━━━━━━━━━━━━━━━┳━━━━━━━━━━━━━━━━━┓\n",
              "┃\u001b[1m \u001b[0m\u001b[1mLayer (type)                        \u001b[0m\u001b[1m \u001b[0m┃\u001b[1m \u001b[0m\u001b[1mOutput Shape               \u001b[0m\u001b[1m \u001b[0m┃\u001b[1m \u001b[0m\u001b[1m        Param #\u001b[0m\u001b[1m \u001b[0m┃\n",
              "┡━━━━━━━━━━━━━━━━━━━━━━━━━━━━━━━━━━━━━━╇━━━━━━━━━━━━━━━━━━━━━━━━━━━━━╇━━━━━━━━━━━━━━━━━┩\n",
              "│ zero_padding2d (\u001b[38;5;33mZeroPadding2D\u001b[0m)       │ (\u001b[38;5;45mNone\u001b[0m, \u001b[38;5;34m134\u001b[0m, \u001b[38;5;34m262\u001b[0m, \u001b[38;5;34m3\u001b[0m)         │               \u001b[38;5;34m0\u001b[0m │\n",
              "├──────────────────────────────────────┼─────────────────────────────┼─────────────────┤\n",
              "│ conv2d (\u001b[38;5;33mConv2D\u001b[0m)                      │ (\u001b[38;5;45mNone\u001b[0m, \u001b[38;5;34m128\u001b[0m, \u001b[38;5;34m256\u001b[0m, \u001b[38;5;34m32\u001b[0m)        │           \u001b[38;5;34m4,736\u001b[0m │\n",
              "├──────────────────────────────────────┼─────────────────────────────┼─────────────────┤\n",
              "│ batch_normalization                  │ (\u001b[38;5;45mNone\u001b[0m, \u001b[38;5;34m128\u001b[0m, \u001b[38;5;34m256\u001b[0m, \u001b[38;5;34m32\u001b[0m)        │             \u001b[38;5;34m128\u001b[0m │\n",
              "│ (\u001b[38;5;33mBatchNormalization\u001b[0m)                 │                             │                 │\n",
              "├──────────────────────────────────────┼─────────────────────────────┼─────────────────┤\n",
              "│ re_lu (\u001b[38;5;33mReLU\u001b[0m)                         │ (\u001b[38;5;45mNone\u001b[0m, \u001b[38;5;34m128\u001b[0m, \u001b[38;5;34m256\u001b[0m, \u001b[38;5;34m32\u001b[0m)        │               \u001b[38;5;34m0\u001b[0m │\n",
              "├──────────────────────────────────────┼─────────────────────────────┼─────────────────┤\n",
              "│ max_pooling2d (\u001b[38;5;33mMaxPooling2D\u001b[0m)         │ (\u001b[38;5;45mNone\u001b[0m, \u001b[38;5;34m64\u001b[0m, \u001b[38;5;34m128\u001b[0m, \u001b[38;5;34m32\u001b[0m)         │               \u001b[38;5;34m0\u001b[0m │\n",
              "└──────────────────────────────────────┴─────────────────────────────┴─────────────────┘\n"
            ],
            "text/html": [
              "<pre style=\"white-space:pre;overflow-x:auto;line-height:normal;font-family:Menlo,'DejaVu Sans Mono',consolas,'Courier New',monospace\">┏━━━━━━━━━━━━━━━━━━━━━━━━━━━━━━━━━━━━━━┳━━━━━━━━━━━━━━━━━━━━━━━━━━━━━┳━━━━━━━━━━━━━━━━━┓\n",
              "┃<span style=\"font-weight: bold\"> Layer (type)                         </span>┃<span style=\"font-weight: bold\"> Output Shape                </span>┃<span style=\"font-weight: bold\">         Param # </span>┃\n",
              "┡━━━━━━━━━━━━━━━━━━━━━━━━━━━━━━━━━━━━━━╇━━━━━━━━━━━━━━━━━━━━━━━━━━━━━╇━━━━━━━━━━━━━━━━━┩\n",
              "│ zero_padding2d (<span style=\"color: #0087ff; text-decoration-color: #0087ff\">ZeroPadding2D</span>)       │ (<span style=\"color: #00d7ff; text-decoration-color: #00d7ff\">None</span>, <span style=\"color: #00af00; text-decoration-color: #00af00\">134</span>, <span style=\"color: #00af00; text-decoration-color: #00af00\">262</span>, <span style=\"color: #00af00; text-decoration-color: #00af00\">3</span>)         │               <span style=\"color: #00af00; text-decoration-color: #00af00\">0</span> │\n",
              "├──────────────────────────────────────┼─────────────────────────────┼─────────────────┤\n",
              "│ conv2d (<span style=\"color: #0087ff; text-decoration-color: #0087ff\">Conv2D</span>)                      │ (<span style=\"color: #00d7ff; text-decoration-color: #00d7ff\">None</span>, <span style=\"color: #00af00; text-decoration-color: #00af00\">128</span>, <span style=\"color: #00af00; text-decoration-color: #00af00\">256</span>, <span style=\"color: #00af00; text-decoration-color: #00af00\">32</span>)        │           <span style=\"color: #00af00; text-decoration-color: #00af00\">4,736</span> │\n",
              "├──────────────────────────────────────┼─────────────────────────────┼─────────────────┤\n",
              "│ batch_normalization                  │ (<span style=\"color: #00d7ff; text-decoration-color: #00d7ff\">None</span>, <span style=\"color: #00af00; text-decoration-color: #00af00\">128</span>, <span style=\"color: #00af00; text-decoration-color: #00af00\">256</span>, <span style=\"color: #00af00; text-decoration-color: #00af00\">32</span>)        │             <span style=\"color: #00af00; text-decoration-color: #00af00\">128</span> │\n",
              "│ (<span style=\"color: #0087ff; text-decoration-color: #0087ff\">BatchNormalization</span>)                 │                             │                 │\n",
              "├──────────────────────────────────────┼─────────────────────────────┼─────────────────┤\n",
              "│ re_lu (<span style=\"color: #0087ff; text-decoration-color: #0087ff\">ReLU</span>)                         │ (<span style=\"color: #00d7ff; text-decoration-color: #00d7ff\">None</span>, <span style=\"color: #00af00; text-decoration-color: #00af00\">128</span>, <span style=\"color: #00af00; text-decoration-color: #00af00\">256</span>, <span style=\"color: #00af00; text-decoration-color: #00af00\">32</span>)        │               <span style=\"color: #00af00; text-decoration-color: #00af00\">0</span> │\n",
              "├──────────────────────────────────────┼─────────────────────────────┼─────────────────┤\n",
              "│ max_pooling2d (<span style=\"color: #0087ff; text-decoration-color: #0087ff\">MaxPooling2D</span>)         │ (<span style=\"color: #00d7ff; text-decoration-color: #00d7ff\">None</span>, <span style=\"color: #00af00; text-decoration-color: #00af00\">64</span>, <span style=\"color: #00af00; text-decoration-color: #00af00\">128</span>, <span style=\"color: #00af00; text-decoration-color: #00af00\">32</span>)         │               <span style=\"color: #00af00; text-decoration-color: #00af00\">0</span> │\n",
              "└──────────────────────────────────────┴─────────────────────────────┴─────────────────┘\n",
              "</pre>\n"
            ]
          },
          "metadata": {}
        },
        {
          "output_type": "display_data",
          "data": {
            "text/plain": [
              "\u001b[1m Total params: \u001b[0m\u001b[38;5;34m4,864\u001b[0m (19.00 KB)\n"
            ],
            "text/html": [
              "<pre style=\"white-space:pre;overflow-x:auto;line-height:normal;font-family:Menlo,'DejaVu Sans Mono',consolas,'Courier New',monospace\"><span style=\"font-weight: bold\"> Total params: </span><span style=\"color: #00af00; text-decoration-color: #00af00\">4,864</span> (19.00 KB)\n",
              "</pre>\n"
            ]
          },
          "metadata": {}
        },
        {
          "output_type": "display_data",
          "data": {
            "text/plain": [
              "\u001b[1m Trainable params: \u001b[0m\u001b[38;5;34m4,800\u001b[0m (18.75 KB)\n"
            ],
            "text/html": [
              "<pre style=\"white-space:pre;overflow-x:auto;line-height:normal;font-family:Menlo,'DejaVu Sans Mono',consolas,'Courier New',monospace\"><span style=\"font-weight: bold\"> Trainable params: </span><span style=\"color: #00af00; text-decoration-color: #00af00\">4,800</span> (18.75 KB)\n",
              "</pre>\n"
            ]
          },
          "metadata": {}
        },
        {
          "output_type": "display_data",
          "data": {
            "text/plain": [
              "\u001b[1m Non-trainable params: \u001b[0m\u001b[38;5;34m64\u001b[0m (256.00 B)\n"
            ],
            "text/html": [
              "<pre style=\"white-space:pre;overflow-x:auto;line-height:normal;font-family:Menlo,'DejaVu Sans Mono',consolas,'Courier New',monospace\"><span style=\"font-weight: bold\"> Non-trainable params: </span><span style=\"color: #00af00; text-decoration-color: #00af00\">64</span> (256.00 B)\n",
              "</pre>\n"
            ]
          },
          "metadata": {}
        }
      ]
    },
    {
      "cell_type": "code",
      "source": [
        "# Features are the output of the CNN which will be used as inputs to the\n",
        "# encoder-decoder layer\n",
        "features_orig = m.predict(X_train)\n",
        "print(features_orig.shape)\n",
        "features = features_orig.reshape(features_orig.shape[0],\n",
        "                                                   -1, features_orig.shape[3])\n",
        "print(features.shape)"
      ],
      "metadata": {
        "colab": {
          "base_uri": "https://localhost:8080/"
        },
        "id": "YPfAvL4iu5RM",
        "outputId": "cbd6d1f7-e720-4bb5-c1b1-b7cb3dfaeebe"
      },
      "execution_count": 16,
      "outputs": [
        {
          "output_type": "stream",
          "name": "stdout",
          "text": [
            "\u001b[1m4/4\u001b[0m \u001b[32m━━━━━━━━━━━━━━━━━━━━\u001b[0m\u001b[37m\u001b[0m \u001b[1m2s\u001b[0m 330ms/step\n",
            "(100, 64, 128, 32)\n",
            "(100, 8192, 32)\n"
          ]
        }
      ]
    },
    {
      "cell_type": "markdown",
      "source": [
        "Add encoder-decoder layers"
      ],
      "metadata": {
        "id": "i0rrJ_RT3Gdo"
      }
    },
    {
      "cell_type": "code",
      "source": [
        "# Encoder Stage A\n",
        "encoder_inputs = tfl.Input(shape=(None, features.shape[2]))\n",
        "encoder_lstm = tfl.LSTM(32, return_state=True)\n",
        "encoder_outputs, state_h, state_c = encoder_lstm(encoder_inputs)\n",
        "encoder_states = [state_h, state_c]\n",
        "\n",
        "# Decoder Stage B\n",
        "num_decoder_tokens = 64\n",
        "decoder_inputs = tfl.Input(shape=(None, num_decoder_tokens))\n",
        "decoder_lstm = tfl.LSTM(32, return_sequences=True, return_state=True)\n",
        "decoder_outputs, _, _ = decoder_lstm(decoder_inputs, initial_state=encoder_states)\n",
        "decoder_dense = tfl.Dense(num_decoder_tokens, activation='softmax')\n",
        "decoder_outputs = decoder_dense(decoder_outputs)\n",
        "\n",
        "# Define the model\n",
        "model = tf.keras.Model([encoder_inputs, decoder_inputs], decoder_outputs)\n",
        "\n",
        "# Compile the model\n",
        "model.compile(optimizer='adam', loss='categorical_crossentropy')"
      ],
      "metadata": {
        "id": "UPIieFdL3JTR"
      },
      "execution_count": null,
      "outputs": []
    },
    {
      "cell_type": "code",
      "source": [],
      "metadata": {
        "colab": {
          "base_uri": "https://localhost:8080/",
          "height": 1000
        },
        "id": "wzIKUYCqLUxQ",
        "outputId": "8180698a-1195-4787-ca4e-7e2ecf14fc41"
      },
      "execution_count": 26,
      "outputs": [
        {
          "output_type": "error",
          "ename": "ValueError",
          "evalue": "Unrecognized data type: x=[array([[[0.140949  , 0.        , 0.        , ..., 0.        ,\n         0.        , 0.59415966],\n        [0.06935853, 0.        , 0.00809006, ..., 0.        ,\n         0.        , 0.39653677],\n        [0.05599204, 0.        , 0.00809006, ..., 0.        ,\n         0.        , 0.20176895],\n        ...,\n        [0.15345576, 0.13447346, 0.        , ..., 0.        ,\n         0.        , 0.        ],\n        [0.35826   , 0.19316988, 0.        , ..., 0.        ,\n         0.        , 0.        ],\n        [0.38903365, 0.18886958, 0.        , ..., 0.        ,\n         0.        , 0.01224857]],\n\n       [[0.140949  , 0.        , 0.        , ..., 0.        ,\n         0.        , 0.59415966],\n        [0.06935853, 0.        , 0.00809006, ..., 0.        ,\n         0.        , 0.39653677],\n        [0.05599204, 0.        , 0.00809006, ..., 0.        ,\n         0.        , 0.20176895],\n        ...,\n        [0.15345576, 0.13447346, 0.        , ..., 0.        ,\n         0.        , 0.        ],\n        [0.35826   , 0.19316988, 0.        , ..., 0.        ,\n         0.        , 0.        ],\n        [0.38903365, 0.18886958, 0.        , ..., 0.        ,\n         0.        , 0.01224857]],\n\n       [[0.140949  , 0.        , 0.        , ..., 0.        ,\n         0.        , 0.59415966],\n        [0.06935853, 0.        , 0.00809006, ..., 0.        ,\n         0.        , 0.39653677],\n        [0.05599204, 0.        , 0.00809006, ..., 0.        ,\n         0.        , 0.20176895],\n        ...,\n        [0.15345576, 0.13447346, 0.        , ..., 0.        ,\n         0.        , 0.        ],\n        [0.35826   , 0.19316988, 0.        , ..., 0.        ,\n         0.        , 0.        ],\n        [0.38903365, 0.18886958, 0.        , ..., 0.        ,\n         0.        , 0.01224857]],\n\n       ...,\n\n       [[0.140949  , 0.        , 0.        , ..., 0.        ,\n         0.        , 0.59415966],\n        [0.06935853, 0.        , 0.00809006, ..., 0.        ,\n         0.        , 0.39653677],\n        [0.05599204, 0.        , 0.00809006, ..., 0.        ,\n         0.        , 0.20176895],\n        ...,\n        [0.15345576, 0.13447346, 0.        , ..., 0.        ,\n         0.        , 0.        ],\n        [0.35826   , 0.19316988, 0.        , ..., 0.        ,\n         0.        , 0.        ],\n        [0.38903365, 0.18886958, 0.        , ..., 0.        ,\n         0.        , 0.01224857]],\n\n       [[0.140949  , 0.        , 0.        , ..., 0.        ,\n         0.        , 0.59415966],\n        [0.06935853, 0.        , 0.00809006, ..., 0.        ,\n         0.        , 0.39653677],\n        [0.05599204, 0.        , 0.00809006, ..., 0.        ,\n         0.        , 0.20176895],\n        ...,\n        [0.15345576, 0.13447346, 0.        , ..., 0.        ,\n         0.        , 0.        ],\n        [0.35826   , 0.19316988, 0.        , ..., 0.        ,\n         0.        , 0.        ],\n        [0.38903365, 0.18886958, 0.        , ..., 0.        ,\n         0.        , 0.01224857]],\n\n       [[0.19828191, 0.        , 0.        , ..., 0.        ,\n         0.        , 0.5226203 ],\n        [0.12817281, 0.        , 0.        , ..., 0.        ,\n         0.        , 0.3322652 ],\n        [0.10632228, 0.        , 0.        , ..., 0.        ,\n         0.        , 0.13868928],\n        ...,\n        [0.15344213, 0.13660327, 0.        , ..., 0.        ,\n         0.        , 0.        ],\n        [0.35826   , 0.19316988, 0.        , ..., 0.        ,\n         0.        , 0.        ],\n        [0.38903365, 0.1888696 , 0.        , ..., 0.        ,\n         0.        , 0.01224858]]], dtype=float32), <KerasTensor shape=(None, 32), dtype=float32, sparse=False, name=keras_tensor_36>] (of type <class 'list'>)",
          "traceback": [
            "\u001b[0;31m---------------------------------------------------------------------------\u001b[0m",
            "\u001b[0;31mValueError\u001b[0m                                Traceback (most recent call last)",
            "\u001b[0;32m<ipython-input-26-d37c1a7bb5e0>\u001b[0m in \u001b[0;36m<cell line: 1>\u001b[0;34m()\u001b[0m\n\u001b[0;32m----> 1\u001b[0;31m model.fit([features, encoder_outputs], labels,\n\u001b[0m\u001b[1;32m      2\u001b[0m           \u001b[0mbatch_size\u001b[0m\u001b[0;34m=\u001b[0m\u001b[0;36m10\u001b[0m\u001b[0;34m,\u001b[0m\u001b[0;34m\u001b[0m\u001b[0;34m\u001b[0m\u001b[0m\n\u001b[1;32m      3\u001b[0m           epochs=10)\n",
            "\u001b[0;32m/usr/local/lib/python3.10/dist-packages/keras/src/utils/traceback_utils.py\u001b[0m in \u001b[0;36merror_handler\u001b[0;34m(*args, **kwargs)\u001b[0m\n\u001b[1;32m    120\u001b[0m             \u001b[0;31m# To get the full stack trace, call:\u001b[0m\u001b[0;34m\u001b[0m\u001b[0;34m\u001b[0m\u001b[0m\n\u001b[1;32m    121\u001b[0m             \u001b[0;31m# `keras.config.disable_traceback_filtering()`\u001b[0m\u001b[0;34m\u001b[0m\u001b[0;34m\u001b[0m\u001b[0m\n\u001b[0;32m--> 122\u001b[0;31m             \u001b[0;32mraise\u001b[0m \u001b[0me\u001b[0m\u001b[0;34m.\u001b[0m\u001b[0mwith_traceback\u001b[0m\u001b[0;34m(\u001b[0m\u001b[0mfiltered_tb\u001b[0m\u001b[0;34m)\u001b[0m \u001b[0;32mfrom\u001b[0m \u001b[0;32mNone\u001b[0m\u001b[0;34m\u001b[0m\u001b[0;34m\u001b[0m\u001b[0m\n\u001b[0m\u001b[1;32m    123\u001b[0m         \u001b[0;32mfinally\u001b[0m\u001b[0;34m:\u001b[0m\u001b[0;34m\u001b[0m\u001b[0;34m\u001b[0m\u001b[0m\n\u001b[1;32m    124\u001b[0m             \u001b[0;32mdel\u001b[0m \u001b[0mfiltered_tb\u001b[0m\u001b[0;34m\u001b[0m\u001b[0;34m\u001b[0m\u001b[0m\n",
            "\u001b[0;32m/usr/local/lib/python3.10/dist-packages/keras/src/trainers/data_adapters/__init__.py\u001b[0m in \u001b[0;36mget_data_adapter\u001b[0;34m(x, y, sample_weight, batch_size, steps_per_epoch, shuffle, class_weight)\u001b[0m\n\u001b[1;32m    118\u001b[0m         \u001b[0;31m# )\u001b[0m\u001b[0;34m\u001b[0m\u001b[0;34m\u001b[0m\u001b[0m\n\u001b[1;32m    119\u001b[0m     \u001b[0;32melse\u001b[0m\u001b[0;34m:\u001b[0m\u001b[0;34m\u001b[0m\u001b[0;34m\u001b[0m\u001b[0m\n\u001b[0;32m--> 120\u001b[0;31m         \u001b[0;32mraise\u001b[0m \u001b[0mValueError\u001b[0m\u001b[0;34m(\u001b[0m\u001b[0;34mf\"Unrecognized data type: x={x} (of type {type(x)})\"\u001b[0m\u001b[0;34m)\u001b[0m\u001b[0;34m\u001b[0m\u001b[0;34m\u001b[0m\u001b[0m\n\u001b[0m\u001b[1;32m    121\u001b[0m \u001b[0;34m\u001b[0m\u001b[0m\n\u001b[1;32m    122\u001b[0m \u001b[0;34m\u001b[0m\u001b[0m\n",
            "\u001b[0;31mValueError\u001b[0m: Unrecognized data type: x=[array([[[0.140949  , 0.        , 0.        , ..., 0.        ,\n         0.        , 0.59415966],\n        [0.06935853, 0.        , 0.00809006, ..., 0.        ,\n         0.        , 0.39653677],\n        [0.05599204, 0.        , 0.00809006, ..., 0.        ,\n         0.        , 0.20176895],\n        ...,\n        [0.15345576, 0.13447346, 0.        , ..., 0.        ,\n         0.        , 0.        ],\n        [0.35826   , 0.19316988, 0.        , ..., 0.        ,\n         0.        , 0.        ],\n        [0.38903365, 0.18886958, 0.        , ..., 0.        ,\n         0.        , 0.01224857]],\n\n       [[0.140949  , 0.        , 0.        , ..., 0.        ,\n         0.        , 0.59415966],\n        [0.06935853, 0.        , 0.00809006, ..., 0.        ,\n         0.        , 0.39653677],\n        [0.05599204, 0.        , 0.00809006, ..., 0.        ,\n         0.        , 0.20176895],\n        ...,\n        [0.15345576, 0.13447346, 0.        , ..., 0.        ,\n         0.        , 0.        ],\n        [0.35826   , 0.19316988, 0.        , ..., 0.        ,\n         0.        , 0.        ],\n        [0.38903365, 0.18886958, 0.        , ..., 0.        ,\n         0.        , 0.01224857]],\n\n       [[0.140949  , 0.        , 0.        , ..., 0.        ,\n         0.        , 0.59415966],\n        [0.06935853, 0.        , 0.00809006, ..., 0.        ,\n         0.        , 0.39653677],\n        [0.05599204, 0.        , 0.00809006, ..., 0.        ,\n         0.        , 0.20176895],\n        ...,\n        [0.15345576, 0.13447346, 0.        , ..., 0.        ,\n         0.        , 0.        ],\n        [0.35826   , 0.19316988, 0.        , ..., 0.        ,\n         0.        , 0.        ],\n        [0.38903365, 0.18886958, 0.        , ..., 0.        ,\n         0.        , 0.01224857]],\n\n       ...,\n\n       [[0.140949  , 0.        , 0.        , ..., 0.        ,\n         0.        , 0.59415966],\n        [0.06935853, 0.        , 0.00809006, ..., 0.        ,\n         0.        , 0.39653677],\n        [0.05599204, 0.        , 0.00809006, ..., 0.        ,\n         0.        , 0.20176895],\n        ...,\n        [0.15345576, 0.13447346, 0.        , ..., 0.        ,\n         0.        , 0.        ],\n        [0.35826   , 0.19316988, 0.        , ..., 0.        ,\n         0.        , 0.        ],\n        [0.38903365, 0.18886958, 0.        , ..., 0.        ,\n         0.        , 0.01224857]],\n\n       [[0.140949  , 0.        , 0.        , ..., 0.        ,\n         0.        , 0.59415966],\n        [0.06935853, 0.        , 0.00809006, ..., 0.        ,\n         0.        , 0.39653677],\n        [0.05599204, 0.        , 0.00809006, ..., 0.        ,\n         0.        , 0.20176895],\n        ...,\n        [0.15345576, 0.13447346, 0.        , ..., 0.        ,\n         0.        , 0.        ],\n        [0.35826   , 0.19316988, 0.        , ..., 0.        ,\n         0.        , 0.        ],\n        [0.38903365, 0.18886958, 0.        , ..., 0.        ,\n         0.        , 0.01224857]],\n\n       [[0.19828191, 0.        , 0.        , ..., 0.        ,\n         0.        , 0.5226203 ],\n        [0.12817281, 0.        , 0.        , ..., 0.        ,\n         0.        , 0.3322652 ],\n        [0.10632228, 0.        , 0.        , ..., 0.        ,\n         0.        , 0.13868928],\n        ...,\n        [0.15344213, 0.13660327, 0.        , ..., 0.        ,\n         0.        , 0.        ],\n        [0.35826   , 0.19316988, 0.        , ..., 0.        ,\n         0.        , 0.        ],\n        [0.38903365, 0.1888696 , 0.        , ..., 0.        ,\n         0.        , 0.01224858]]], dtype=float32), <KerasTensor shape=(None, 32), dtype=float32, sparse=False, name=keras_tensor_36>] (of type <class 'list'>)"
          ]
        }
      ]
    },
    {
      "cell_type": "code",
      "source": [],
      "metadata": {
        "id": "2v_2RVO3OMft"
      },
      "execution_count": null,
      "outputs": []
    }
  ]
}